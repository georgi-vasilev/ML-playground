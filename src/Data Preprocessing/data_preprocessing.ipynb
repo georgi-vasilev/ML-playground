{
 "cells": [
  {
   "cell_type": "code",
   "execution_count": 7,
   "id": "f426f005",
   "metadata": {
    "tags": []
   },
   "outputs": [],
   "source": [
    "# importing libraries\n",
    "import numpy as np\n",
    "import matplotlib.pyplot as plt\n",
    "import pandas as pd\n",
    "\n",
    "# importing dataset\n",
    "dataset = pd.read_csv('data.csv')\n",
    "x = dataset.iloc[:, :-1].values\n",
    "y = dataset.iloc[:, 3].values\n",
    "\n",
    "# taking care of missing data\n",
    "# in this case the missing data is filled with the mean\n",
    "#from sklearn.preprocessing import Imputer\n",
    "from sklearn.impute import SimpleImputer\n",
    "imputer = SimpleImputer(missing_values = np.nan, strategy = 'mean')\n",
    "imputer.fit(x[:, 1:3])\n",
    "x[:, 1:3] = imputer.transform(X[:, 1:3])"
   ]
  },
  {
   "cell_type": "code",
   "execution_count": 8,
   "id": "8940428c",
   "metadata": {},
   "outputs": [
    {
     "name": "stdout",
     "output_type": "stream",
     "text": [
      "[['France' 0.0 0.0]\n",
      " ['Spain' 0.0 1.0]\n",
      " ['Germany' 1.0 0.0]\n",
      " ['Spain' 0.0 1.0]\n",
      " ['Germany' 1.0 0.0]\n",
      " ['France' 0.0 0.0]\n",
      " ['Spain' 0.0 1.0]\n",
      " ['France' 0.0 0.0]\n",
      " ['Germany' 1.0 0.0]\n",
      " ['France' 0.0 0.0]]\n"
     ]
    }
   ],
   "source": [
    "print(x)"
   ]
  },
  {
   "cell_type": "code",
   "execution_count": 9,
   "id": "0bd302b0-40ec-4823-864c-24788c2530c7",
   "metadata": {},
   "outputs": [],
   "source": [
    "# Encoding categorical data\n",
    "# in this case the coutnries (France, Spain, Germany) will be respectively (0, 2, 1)\n",
    "# we encode the data since the models learn from numbers\n",
    "from sklearn.compose import ColumnTransformer\n",
    "from sklearn.preprocessing import OneHotEncoder\n",
    "ct = ColumnTransformer(transformers=[('encoder', OneHotEncoder(), [0])], remainder='passthrough')\n",
    "x = np.array(ct.fit_transform(x))"
   ]
  },
  {
   "cell_type": "code",
   "execution_count": 10,
   "id": "5b81130b",
   "metadata": {},
   "outputs": [
    {
     "name": "stdout",
     "output_type": "stream",
     "text": [
      "[[1.0 0.0 0.0 0.0 0.0]\n",
      " [0.0 0.0 1.0 0.0 1.0]\n",
      " [0.0 1.0 0.0 1.0 0.0]\n",
      " [0.0 0.0 1.0 0.0 1.0]\n",
      " [0.0 1.0 0.0 1.0 0.0]\n",
      " [1.0 0.0 0.0 0.0 0.0]\n",
      " [0.0 0.0 1.0 0.0 1.0]\n",
      " [1.0 0.0 0.0 0.0 0.0]\n",
      " [0.0 1.0 0.0 1.0 0.0]\n",
      " [1.0 0.0 0.0 0.0 0.0]]\n"
     ]
    }
   ],
   "source": [
    "print(x)"
   ]
  },
  {
   "cell_type": "code",
   "execution_count": 12,
   "id": "3951d0c5",
   "metadata": {},
   "outputs": [],
   "source": [
    "#encoding dependent variable (yes/no)\n",
    "from sklearn.preprocessing import LabelEncoder\n",
    "le = LabelEncoder()\n",
    "y = le.fit_transform(y)"
   ]
  },
  {
   "cell_type": "code",
   "execution_count": 13,
   "id": "6effe977",
   "metadata": {},
   "outputs": [
    {
     "name": "stdout",
     "output_type": "stream",
     "text": [
      "[0 1 0 0 1 1 0 1 0 1]\n"
     ]
    }
   ],
   "source": [
    "print(y)"
   ]
  },
  {
   "cell_type": "code",
   "execution_count": 15,
   "id": "c82f59ae",
   "metadata": {},
   "outputs": [],
   "source": [
    "#splitting the data\n",
    "from sklearn.model_selection import train_test_split\n",
    "x_train, x_test, y_train, y_test = train_test_split(x, y, test_size = 0.2, random_state = 1)"
   ]
  },
  {
   "cell_type": "code",
   "execution_count": 17,
   "id": "aa308051",
   "metadata": {},
   "outputs": [],
   "source": [
    "#feature scaling\n",
    "from sklearn.preprocessing import StandardScaler\n",
    "sc = StandardScaler()\n",
    "x_train[:, 3:] = sc.fit_transform(x_train[:, 3:])\n",
    "x_test[:, 3:] = sc.transform(x_test[:, 3:])"
   ]
  },
  {
   "cell_type": "code",
   "execution_count": 18,
   "id": "ecb6b49d",
   "metadata": {},
   "outputs": [
    {
     "name": "stdout",
     "output_type": "stream",
     "text": [
      "[[0.0 0.0 1.0 -0.5773502691896258 1.2909944487358056]\n",
      " [0.0 1.0 0.0 1.7320508075688774 -0.7745966692414834]\n",
      " [1.0 0.0 0.0 -0.5773502691896258 -0.7745966692414834]\n",
      " [0.0 0.0 1.0 -0.5773502691896258 1.2909944487358056]\n",
      " [0.0 0.0 1.0 -0.5773502691896258 1.2909944487358056]\n",
      " [1.0 0.0 0.0 -0.5773502691896258 -0.7745966692414834]\n",
      " [0.0 1.0 0.0 1.7320508075688774 -0.7745966692414834]\n",
      " [1.0 0.0 0.0 -0.5773502691896258 -0.7745966692414834]]\n"
     ]
    }
   ],
   "source": [
    "print(x_train)"
   ]
  },
  {
   "cell_type": "code",
   "execution_count": 19,
   "id": "5b5102ad",
   "metadata": {},
   "outputs": [
    {
     "name": "stdout",
     "output_type": "stream",
     "text": [
      "[[0.0 1.0 0.0 1.7320508075688774 -0.7745966692414834]\n",
      " [1.0 0.0 0.0 -0.5773502691896258 -0.7745966692414834]]\n"
     ]
    }
   ],
   "source": [
    "print(x_test)"
   ]
  },
  {
   "cell_type": "code",
   "execution_count": null,
   "id": "b4c653dd",
   "metadata": {},
   "outputs": [],
   "source": []
  }
 ],
 "metadata": {
  "interpreter": {
   "hash": "463f8e400b8fe6ae2de283c04ce946fd9bdff33a5c4b8fe9a0cb412218ac062f"
  },
  "kernelspec": {
   "display_name": "Python 3",
   "language": "python",
   "name": "python3"
  },
  "language_info": {
   "codemirror_mode": {
    "name": "ipython",
    "version": 3
   },
   "file_extension": ".py",
   "mimetype": "text/x-python",
   "name": "python",
   "nbconvert_exporter": "python",
   "pygments_lexer": "ipython3",
   "version": "3.8.8"
  }
 },
 "nbformat": 4,
 "nbformat_minor": 5
}
